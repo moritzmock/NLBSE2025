{
 "cells": [
  {
   "cell_type": "code",
   "execution_count": 9,
   "metadata": {
    "collapsed": true,
    "ExecuteTime": {
     "end_time": "2024-11-15T12:44:18.977008Z",
     "start_time": "2024-11-15T12:44:17.576130Z"
    }
   },
   "outputs": [],
   "source": [
    "import pandas as pd\n",
    "from datasets import load_dataset, \\\n",
    "    concatenate_datasets\n",
    "\n",
    "from transformers import AutoTokenizer"
   ]
  },
  {
   "cell_type": "code",
   "execution_count": 10,
   "outputs": [],
   "source": [
    "data = load_dataset('NLBSE/nlbse25-code-comment-classification')"
   ],
   "metadata": {
    "collapsed": false,
    "ExecuteTime": {
     "end_time": "2024-11-15T12:44:22.701720Z",
     "start_time": "2024-11-15T12:44:18.978456Z"
    }
   }
  },
  {
   "cell_type": "code",
   "execution_count": 11,
   "outputs": [
    {
     "data": {
      "text/plain": "{'index': 1,\n 'class': 'Abfss.java',\n 'comment_sentence': 'this impl delegates to the old filesystem',\n 'partition': 0,\n 'combo': 'this impl delegates to the old filesystem | Abfss.java',\n 'labels': [0, 0, 1, 0, 0, 0, 0]}"
     },
     "execution_count": 11,
     "metadata": {},
     "output_type": "execute_result"
    }
   ],
   "source": [
    "data[\"java_train\"][1]"
   ],
   "metadata": {
    "collapsed": false,
    "ExecuteTime": {
     "end_time": "2024-11-15T12:44:22.707772Z",
     "start_time": "2024-11-15T12:44:22.702008Z"
    }
   }
  },
  {
   "cell_type": "code",
   "execution_count": 12,
   "outputs": [],
   "source": [
    "langs = ['java', 'python', 'pharo']\n",
    "labels = {\n",
    "    'java': ['summary', 'Ownership', 'Expand', 'usage', 'Pointer', 'deprecation', 'rational'],\n",
    "    'python': ['Usage', 'Parameters', 'DevelopmentNotes', 'Expand', 'Summary'],\n",
    "    'pharo': ['Keyimplementationpoints', 'Example', 'Responsibilities', 'Classreferences', 'Intent', 'Keymessages', 'Collaborators']\n",
    "}\n",
    "\n",
    "def split_list_into_columns(row, lang):\n",
    "    values_list = row['labels']  # Replace 'values' with your actual column name\n",
    "    dict = {}\n",
    "    for key in labels[lang]:\n",
    "        dict[key] = values_list[labels[lang].index(key)]\n",
    "\n",
    "    return dict\n",
    "\n",
    "def print_labels(data, lang):\n",
    "    for label in labels[lang]:\n",
    "        group = data.groupby(label).count()\n",
    "        print(\"label \" + label)\n",
    "        print(\"positive\", group[\"class\"][1], \",negative\", group[\"class\"][0], \"---\", group[\"class\"][1]+group[\"class\"][0])\n",
    "\n",
    "java = concatenate_datasets([data[\"java_train\"], data[\"java_test\"]]).map(lambda row: split_list_into_columns(row, \"java\")).to_pandas()\n",
    "python = concatenate_datasets([data[\"python_train\"], data[\"python_test\"]]).map(lambda row: split_list_into_columns(row, \"python\")).to_pandas()\n",
    "pharo = concatenate_datasets([data[\"pharo_train\"], data[\"pharo_test\"]]).map(lambda row: split_list_into_columns(row, \"pharo\")).to_pandas()\n"
   ],
   "metadata": {
    "collapsed": false,
    "ExecuteTime": {
     "end_time": "2024-11-15T12:44:22.747237Z",
     "start_time": "2024-11-15T12:44:22.710935Z"
    }
   }
  },
  {
   "cell_type": "code",
   "execution_count": 13,
   "outputs": [
    {
     "name": "stdout",
     "output_type": "stream",
     "text": [
      "label summary\n",
      "positive 4502 ,negative 4837 --- 9339\n",
      "label Ownership\n",
      "positive 312 ,negative 9027 --- 9339\n",
      "label Expand\n",
      "positive 611 ,negative 8728 --- 9339\n",
      "label usage\n",
      "positive 2524 ,negative 6815 --- 9339\n",
      "label Pointer\n",
      "positive 1088 ,negative 8251 --- 9339\n",
      "label deprecation\n",
      "positive 132 ,negative 9207 --- 9339\n",
      "label rational\n",
      "positive 379 ,negative 8960 --- 9339\n"
     ]
    }
   ],
   "source": [
    "print_labels(java, \"java\")"
   ],
   "metadata": {
    "collapsed": false,
    "ExecuteTime": {
     "end_time": "2024-11-15T12:44:22.767813Z",
     "start_time": "2024-11-15T12:44:22.755308Z"
    }
   }
  },
  {
   "cell_type": "code",
   "execution_count": 14,
   "outputs": [
    {
     "name": "stdout",
     "output_type": "stream",
     "text": [
      "label Usage\n",
      "positive 699 ,negative 1591 --- 2290\n",
      "label Parameters\n",
      "positive 700 ,negative 1590 --- 2290\n",
      "label DevelopmentNotes\n",
      "positive 251 ,negative 2039 --- 2290\n",
      "label Expand\n",
      "positive 407 ,negative 1883 --- 2290\n",
      "label Summary\n",
      "positive 429 ,negative 1861 --- 2290\n"
     ]
    }
   ],
   "source": [
    "print_labels(python, \"python\")"
   ],
   "metadata": {
    "collapsed": false,
    "ExecuteTime": {
     "end_time": "2024-11-15T12:44:22.788430Z",
     "start_time": "2024-11-15T12:44:22.768898Z"
    }
   }
  },
  {
   "cell_type": "code",
   "execution_count": 15,
   "outputs": [
    {
     "name": "stdout",
     "output_type": "stream",
     "text": [
      "label Keyimplementationpoints\n",
      "positive 221 ,negative 1366 --- 1587\n",
      "label Example\n",
      "positive 666 ,negative 921 --- 1587\n",
      "label Responsibilities\n",
      "positive 297 ,negative 1290 --- 1587\n",
      "label Classreferences\n",
      "positive 50 ,negative 1537 --- 1587\n",
      "label Intent\n",
      "positive 181 ,negative 1406 --- 1587\n",
      "label Keymessages\n",
      "positive 257 ,negative 1330 --- 1587\n",
      "label Collaborators\n",
      "positive 86 ,negative 1501 --- 1587\n"
     ]
    }
   ],
   "source": [
    "print_labels(pharo, \"pharo\")"
   ],
   "metadata": {
    "collapsed": false,
    "ExecuteTime": {
     "end_time": "2024-11-15T12:44:22.791764Z",
     "start_time": "2024-11-15T12:44:22.774276Z"
    }
   }
  },
  {
   "cell_type": "code",
   "execution_count": 24,
   "outputs": [
    {
     "name": "stderr",
     "output_type": "stream",
     "text": [
      "adding tokens length...:  13%|█▎        | 1696/13216 [00:00<00:01, 8587.41it/s]Token indices sequence length is longer than the specified maximum sequence length for this model (526 > 512). Running this sequence through the model will result in indexing errors\n",
      "adding tokens length...: 100%|██████████| 13216/13216 [00:01<00:00, 8764.56it/s]\n"
     ]
    },
    {
     "data": {
      "text/plain": "     index                                   class  \\\n0        0                              Abfss.java   \n1        1                              Abfss.java   \n2        2  AbstractContractGetFileStatusTest.java   \n3       11  AbstractContractGetFileStatusTest.java   \n4       15  AbstractContractGetFileStatusTest.java   \n..     ...                                     ...   \n284   1812                                WAPlugin   \n285   1814                      WAProtectionFilter   \n286   1816                   WARedirectingRegistry   \n287   1818                        WARequestContext   \n288   1821                             WASelection   \n\n                                      comment_sentence  partition  \\\n0    azure blob file system implementation of abstr...          0   \n1            this impl delegates to the old filesystem          0   \n2    test getfilestatus and related listing operati...          0   \n3    path filter which only expects paths whose fin...          0   \n4    a filesystem filter which exposes the protecte...          0   \n..                                                 ...        ...   \n284  to add a new plugin make sure you choose the r...          1   \n285  the protection filter ensures that the wrapped...          1   \n286  i revert to the old 33.0 behavior which is eas...          1   \n287  it does not matter if this is a request to a s...          1   \n288                           items can be any object.          1   \n\n                                                 combo                 labels  \\\n0    azure blob file system implementation of abstr...  [1, 0, 0, 0, 0, 0, 0]   \n1    this impl delegates to the old filesystem | Ab...  [0, 0, 1, 0, 0, 0, 0]   \n2    test getfilestatus and related listing operati...  [1, 0, 0, 0, 0, 0, 0]   \n3    path filter which only expects paths whose fin...  [0, 0, 1, 0, 0, 0, 0]   \n4    a filesystem filter which exposes the protecte...  [0, 0, 1, 0, 0, 0, 0]   \n..                                                 ...                    ...   \n284  to add a new plugin make sure you choose the r...  [0, 0, 1, 0, 0, 0, 0]   \n285  the protection filter ensures that the wrapped...  [0, 0, 1, 0, 0, 0, 0]   \n286  i revert to the old 33.0 behavior which is eas...  [0, 0, 1, 0, 0, 0, 0]   \n287  it does not matter if this is a request to a s...  [0, 0, 1, 0, 0, 0, 0]   \n288             items can be any object. | WASelection  [1, 0, 0, 0, 0, 0, 0]   \n\n    len_tokens  \n0           20  \n1           28  \n2           30  \n3           24  \n4           26  \n..         ...  \n284         30  \n285         24  \n286         24  \n287         39  \n288         11  \n\n[13216 rows x 7 columns]",
      "text/html": "<div>\n<style scoped>\n    .dataframe tbody tr th:only-of-type {\n        vertical-align: middle;\n    }\n\n    .dataframe tbody tr th {\n        vertical-align: top;\n    }\n\n    .dataframe thead th {\n        text-align: right;\n    }\n</style>\n<table border=\"1\" class=\"dataframe\">\n  <thead>\n    <tr style=\"text-align: right;\">\n      <th></th>\n      <th>index</th>\n      <th>class</th>\n      <th>comment_sentence</th>\n      <th>partition</th>\n      <th>combo</th>\n      <th>labels</th>\n      <th>len_tokens</th>\n    </tr>\n  </thead>\n  <tbody>\n    <tr>\n      <th>0</th>\n      <td>0</td>\n      <td>Abfss.java</td>\n      <td>azure blob file system implementation of abstr...</td>\n      <td>0</td>\n      <td>azure blob file system implementation of abstr...</td>\n      <td>[1, 0, 0, 0, 0, 0, 0]</td>\n      <td>20</td>\n    </tr>\n    <tr>\n      <th>1</th>\n      <td>1</td>\n      <td>Abfss.java</td>\n      <td>this impl delegates to the old filesystem</td>\n      <td>0</td>\n      <td>this impl delegates to the old filesystem | Ab...</td>\n      <td>[0, 0, 1, 0, 0, 0, 0]</td>\n      <td>28</td>\n    </tr>\n    <tr>\n      <th>2</th>\n      <td>2</td>\n      <td>AbstractContractGetFileStatusTest.java</td>\n      <td>test getfilestatus and related listing operati...</td>\n      <td>0</td>\n      <td>test getfilestatus and related listing operati...</td>\n      <td>[1, 0, 0, 0, 0, 0, 0]</td>\n      <td>30</td>\n    </tr>\n    <tr>\n      <th>3</th>\n      <td>11</td>\n      <td>AbstractContractGetFileStatusTest.java</td>\n      <td>path filter which only expects paths whose fin...</td>\n      <td>0</td>\n      <td>path filter which only expects paths whose fin...</td>\n      <td>[0, 0, 1, 0, 0, 0, 0]</td>\n      <td>24</td>\n    </tr>\n    <tr>\n      <th>4</th>\n      <td>15</td>\n      <td>AbstractContractGetFileStatusTest.java</td>\n      <td>a filesystem filter which exposes the protecte...</td>\n      <td>0</td>\n      <td>a filesystem filter which exposes the protecte...</td>\n      <td>[0, 0, 1, 0, 0, 0, 0]</td>\n      <td>26</td>\n    </tr>\n    <tr>\n      <th>...</th>\n      <td>...</td>\n      <td>...</td>\n      <td>...</td>\n      <td>...</td>\n      <td>...</td>\n      <td>...</td>\n      <td>...</td>\n    </tr>\n    <tr>\n      <th>284</th>\n      <td>1812</td>\n      <td>WAPlugin</td>\n      <td>to add a new plugin make sure you choose the r...</td>\n      <td>1</td>\n      <td>to add a new plugin make sure you choose the r...</td>\n      <td>[0, 0, 1, 0, 0, 0, 0]</td>\n      <td>30</td>\n    </tr>\n    <tr>\n      <th>285</th>\n      <td>1814</td>\n      <td>WAProtectionFilter</td>\n      <td>the protection filter ensures that the wrapped...</td>\n      <td>1</td>\n      <td>the protection filter ensures that the wrapped...</td>\n      <td>[0, 0, 1, 0, 0, 0, 0]</td>\n      <td>24</td>\n    </tr>\n    <tr>\n      <th>286</th>\n      <td>1816</td>\n      <td>WARedirectingRegistry</td>\n      <td>i revert to the old 33.0 behavior which is eas...</td>\n      <td>1</td>\n      <td>i revert to the old 33.0 behavior which is eas...</td>\n      <td>[0, 0, 1, 0, 0, 0, 0]</td>\n      <td>24</td>\n    </tr>\n    <tr>\n      <th>287</th>\n      <td>1818</td>\n      <td>WARequestContext</td>\n      <td>it does not matter if this is a request to a s...</td>\n      <td>1</td>\n      <td>it does not matter if this is a request to a s...</td>\n      <td>[0, 0, 1, 0, 0, 0, 0]</td>\n      <td>39</td>\n    </tr>\n    <tr>\n      <th>288</th>\n      <td>1821</td>\n      <td>WASelection</td>\n      <td>items can be any object.</td>\n      <td>1</td>\n      <td>items can be any object. | WASelection</td>\n      <td>[1, 0, 0, 0, 0, 0, 0]</td>\n      <td>11</td>\n    </tr>\n  </tbody>\n</table>\n<p>13216 rows × 7 columns</p>\n</div>"
     },
     "execution_count": 24,
     "metadata": {},
     "output_type": "execute_result"
    }
   ],
   "source": [
    "import pandas as pd\n",
    "from tqdm import tqdm\n",
    "\n",
    "data = load_dataset('NLBSE/nlbse25-code-comment-classification')\n",
    "data = pd.concat([data[\"java_train\"].to_pandas(), data[\"java_test\"].to_pandas(), data[\"python_train\"].to_pandas(), data[\"python_test\"].to_pandas(), data[\"pharo_train\"].to_pandas(), data[\"pharo_test\"].to_pandas()])\n",
    "data[\"len_tokens\"] = None\n",
    "\n",
    "len(data)\n",
    "tokenizer = AutoTokenizer.from_pretrained(\"roberta-base\")\n",
    "\n",
    "pbar = tqdm(total=len(data), desc=\"adding tokens length...\")\n",
    "\n",
    "for index, row in data.iterrows():\n",
    "    input = row[\"combo\"]\n",
    "    tokens = tokenizer.encode(input)\n",
    "    len_tokens = len(tokens)\n",
    "    data.loc[index, \"len_tokens\"] = len_tokens\n",
    "    pbar.update(1)\n",
    "\n",
    "pbar.close()\n",
    "\n",
    "data"
   ],
   "metadata": {
    "collapsed": false,
    "ExecuteTime": {
     "end_time": "2024-11-15T12:53:48.202407Z",
     "start_time": "2024-11-15T12:53:42.311317Z"
    }
   }
  },
  {
   "cell_type": "code",
   "execution_count": 29,
   "outputs": [
    {
     "data": {
      "text/plain": "[20,\n 28,\n 30,\n 24,\n 26,\n 16,\n 18,\n 20,\n 8,\n 16,\n 19,\n 17,\n 25,\n 18,\n 18,\n 51,\n 23,\n 24,\n 22,\n 28,\n 29,\n 8,\n 7,\n 26,\n 34,\n 19,\n 15,\n 16,\n 21,\n 9,\n 21,\n 15,\n 28,\n 25,\n 26,\n 27,\n 28,\n 41,\n 24,\n 18,\n 8,\n 26,\n 19,\n 14,\n 13,\n 17,\n 11,\n 20,\n 11,\n 11,\n 22,\n 15,\n 19,\n 11,\n 10,\n 10,\n 19,\n 44,\n 55,\n 28,\n 19,\n 38,\n 46,\n 42,\n 34,\n 35,\n 15,\n 18,\n 33,\n 16,\n 21,\n 15,\n 12,\n 12,\n 13,\n 17,\n 14,\n 15,\n 26,\n 17,\n 19,\n 25,\n 23,\n 25,\n 24,\n 17,\n 26,\n 35,\n 25,\n 32,\n 35,\n 37,\n 21,\n 45,\n 32,\n 24,\n 23,\n 13,\n 21,\n 20,\n 11,\n 23,\n 17,\n 15,\n 15,\n 12,\n 18,\n 13,\n 21,\n 15,\n 12,\n 12,\n 10,\n 11,\n 13,\n 11,\n 11,\n 8,\n 13,\n 9,\n 15,\n 10,\n 9,\n 10,\n 9,\n 51,\n 14,\n 19,\n 22,\n 12,\n 17,\n 17,\n 10,\n 15,\n 11,\n 27,\n 36,\n 13,\n 14,\n 24,\n 23,\n 23,\n 17,\n 25,\n 20,\n 10,\n 11,\n 9,\n 11,\n 9,\n 8,\n 19,\n 9,\n 17,\n 13,\n 15,\n 23,\n 32,\n 30,\n 33,\n 33,\n 30,\n 30,\n 31,\n 28,\n 11,\n 9,\n 15,\n 33,\n 13,\n 10,\n 20,\n 16,\n 19,\n 13,\n 15,\n 12,\n 13,\n 8,\n 10,\n 7,\n 10,\n 12,\n 23,\n 14,\n 23,\n 14,\n 14,\n 23,\n 42,\n 32,\n 7,\n 10,\n 31,\n 9,\n 15,\n 21,\n 27,\n 17,\n 25,\n 24,\n 23,\n 26,\n 14,\n 18,\n 18,\n 13,\n 19,\n 15,\n 15,\n 13,\n 14,\n 22,\n 22,\n 13,\n 22,\n 10,\n 14,\n 15,\n 9,\n 19,\n 13,\n 19,\n 19,\n 13,\n 17,\n 14,\n 16,\n 17,\n 18,\n 7,\n 12,\n 28,\n 18,\n 28,\n 17,\n 13,\n 22,\n 25,\n 17,\n 32,\n 29,\n 15,\n 20,\n 11,\n 16,\n 16,\n 12,\n 9,\n 9,\n 10,\n 9,\n 9,\n 19,\n 36,\n 8,\n 33,\n 28,\n 36,\n 16,\n 15,\n 30,\n 17,\n 8,\n 16,\n 11,\n 12,\n 10,\n 19,\n 36,\n 40,\n 14,\n 24,\n 32,\n 34,\n 48,\n 19,\n 13,\n 20,\n 11,\n 12,\n 11,\n 15,\n 21,\n 30,\n 24,\n 24,\n 39,\n 11,\n 13,\n 28,\n 27,\n 27,\n 18,\n 27,\n 17,\n 19,\n 19,\n 25,\n 37,\n 25,\n 22,\n 19,\n 24,\n 20,\n 21,\n 12,\n 28,\n 12,\n 12,\n 12,\n 18,\n 16,\n 15,\n 15,\n 12,\n 23,\n 28,\n 20,\n 17,\n 26,\n 28,\n 19,\n 28,\n 24,\n 20,\n 17,\n 17,\n 35,\n 29,\n 14,\n 18,\n 23,\n 21,\n 30,\n 23,\n 24,\n 36,\n 22,\n 41,\n 26,\n 30,\n 24,\n 39,\n 42,\n 50,\n 60,\n 44,\n 17,\n 24,\n 54,\n 33,\n 23,\n 20,\n 38,\n 27,\n 38,\n 28,\n 36,\n 40,\n 19,\n 29,\n 23,\n 40,\n 49,\n 40,\n 23,\n 38,\n 21,\n 32,\n 15,\n 29,\n 104,\n 20,\n 48,\n 25,\n 28,\n 19,\n 19,\n 47,\n 39,\n 23,\n 45,\n 39,\n 64,\n 41,\n 38,\n 29,\n 22,\n 39,\n 22,\n 71,\n 39,\n 87,\n 41,\n 26,\n 40,\n 24,\n 18,\n 42,\n 21,\n 24,\n 32,\n 39,\n 21,\n 25,\n 10,\n 11,\n 25,\n 23,\n 17,\n 19,\n 28,\n 31,\n 23,\n 28,\n 32,\n 30,\n 29,\n 35,\n 28,\n 14,\n 11,\n 11,\n 17,\n 32,\n 26,\n 22,\n 24,\n 27,\n 30,\n 39,\n 44,\n 38,\n 34,\n 37,\n 22,\n 27,\n 40,\n 25,\n 20,\n 25,\n 30,\n 19,\n 32,\n 36,\n 23,\n 35,\n 44,\n 28,\n 30,\n 35,\n 41,\n 38,\n 23,\n 23,\n 9,\n 22,\n 35,\n 26,\n 15,\n 12,\n 15,\n 18,\n 14,\n 13,\n 15,\n 16,\n 14,\n 14,\n 25,\n 20,\n 16,\n 18,\n 12,\n 11,\n 12,\n 8,\n 30,\n 11,\n 13,\n 16,\n 10,\n 11,\n 9,\n 12,\n 10,\n 11,\n 9,\n 11,\n 13,\n 15,\n 13,\n 13,\n 10,\n 9,\n 11,\n 30,\n 11,\n 11,\n 11,\n 17,\n 22,\n 14,\n 16,\n 25,\n 25,\n 15,\n 11,\n 13,\n 13,\n 13,\n 13,\n 12,\n 16,\n 10,\n 31,\n 28,\n 25,\n 13,\n 17,\n 20,\n 15,\n 17,\n 14,\n 12,\n 16,\n 14,\n 14,\n 21,\n 22,\n 22,\n 19,\n 15,\n 33,\n 19,\n 13,\n 12,\n 23,\n 18,\n 13,\n 9,\n 16,\n 30,\n 34,\n 8,\n 13,\n 13,\n 9,\n 38,\n 20,\n 22,\n 16,\n 18,\n 18,\n 21,\n 25,\n 7,\n 23,\n 17,\n 21,\n 19,\n 6,\n 26,\n 26,\n 29,\n 10,\n 7,\n 36,\n 22,\n 9,\n 23,\n 10,\n 10,\n 18,\n 23,\n 12,\n 6,\n 18,\n 7,\n 13,\n 24,\n 10,\n 8,\n 21,\n 29,\n 22,\n 31,\n 12,\n 30,\n 46,\n 18,\n 10,\n 15,\n 12,\n 16,\n 19,\n 9,\n 8,\n 23,\n 9,\n 8,\n 33,\n 40,\n 31,\n 22,\n 25,\n 15,\n 76,\n 17,\n 21,\n 24,\n 13,\n 16,\n 18,\n 17,\n 30,\n 18,\n 13,\n 23,\n 22,\n 14,\n 16,\n 26,\n 22,\n 26,\n 17,\n 18,\n 20,\n 14,\n 21,\n 11,\n 15,\n 26,\n 8,\n 19,\n 14,\n 20,\n 17,\n 19,\n 26,\n 13,\n 17,\n 13,\n 7,\n 17,\n 13,\n 18,\n 13,\n 10,\n 17,\n 8,\n 27,\n 26,\n 7,\n 13,\n 18,\n 17,\n 17,\n 7,\n 23,\n 13,\n 18,\n 21,\n 19,\n 50,\n 18,\n 18,\n 12,\n 23,\n 9,\n 25,\n 21,\n 20,\n 17,\n 23,\n 21,\n 24,\n 21,\n 35,\n 13,\n 45,\n 43,\n 32,\n 10,\n 22,\n 35,\n 20,\n 33,\n 21,\n 17,\n 17,\n 19,\n 19,\n 27,\n 39,\n 17,\n 13,\n 9,\n 22,\n 17,\n 27,\n 22,\n 23,\n 17,\n 19,\n 16,\n 7,\n 8,\n 10,\n 7,\n 7,\n 8,\n 10,\n 9,\n 24,\n 27,\n 36,\n 10,\n 9,\n 10,\n 9,\n 8,\n 9,\n 9,\n 8,\n 9,\n 8,\n 7,\n 8,\n 13,\n 18,\n 26,\n 15,\n 20,\n 13,\n 25,\n 15,\n 26,\n 14,\n 13,\n 14,\n 14,\n 11,\n 21,\n 13,\n 11,\n 9,\n 11,\n 22,\n 33,\n 23,\n 18,\n 30,\n 24,\n 23,\n 18,\n 24,\n 27,\n 22,\n 24,\n 20,\n 21,\n 29,\n 34,\n 15,\n 9,\n 29,\n 11,\n 17,\n 28,\n 14,\n 26,\n 10,\n 14,\n 16,\n 9,\n 11,\n 19,\n 14,\n 16,\n 24,\n 10,\n 30,\n 19,\n 18,\n 18,\n 11,\n 37,\n 15,\n 18,\n 7,\n 9,\n 23,\n 22,\n 18,\n 24,\n 17,\n 12,\n 12,\n 21,\n 24,\n 10,\n 24,\n 11,\n 15,\n 18,\n 24,\n 21,\n 11,\n 15,\n 13,\n 15,\n 22,\n 26,\n 23,\n 23,\n 15,\n 30,\n 22,\n 19,\n 15,\n 17,\n 12,\n 9,\n 12,\n 9,\n 32,\n 48,\n 44,\n 24,\n 48,\n 30,\n 24,\n 20,\n 41,\n 26,\n 17,\n 28,\n 20,\n 40,\n 24,\n 13,\n 16,\n 32,\n 14,\n 27,\n 11,\n 10,\n 20,\n 31,\n 11,\n 13,\n 18,\n 12,\n 22,\n 18,\n 37,\n 31,\n 15,\n 58,\n 24,\n 44,\n 13,\n 20,\n 20,\n 26,\n 17,\n 19,\n 22,\n 9,\n 12,\n 11,\n 15,\n 8,\n 14,\n 12,\n 12,\n 13,\n 11,\n 13,\n 10,\n 12,\n 12,\n 12,\n 9,\n 23,\n 23,\n 20,\n 13,\n 15,\n 11,\n 12,\n 21,\n 18,\n 19,\n 18,\n 15,\n 23,\n 16,\n 16,\n 16,\n 21,\n 18,\n 23,\n 21,\n 22,\n 18,\n 18,\n 18,\n 17,\n 17,\n 10,\n 14,\n 7,\n 6,\n 11,\n 17,\n 7,\n 28,\n 16,\n 19,\n 9,\n 12,\n 44,\n 13,\n 13,\n 13,\n 22,\n 18,\n 23,\n 24,\n 16,\n 18,\n 21,\n 9,\n 15,\n 15,\n 11,\n 14,\n 15,\n 9,\n 11,\n 21,\n 26,\n 34,\n 22,\n 13,\n 16,\n 35,\n 28,\n 8,\n 9,\n 13,\n 11,\n 20,\n 26,\n 11,\n 17,\n 14,\n 23,\n 21,\n 17,\n 18,\n 18,\n 17,\n 19,\n 22,\n 23,\n 24,\n 16,\n 36,\n 12,\n 22,\n 13,\n 19,\n 19,\n 17,\n 18,\n 19,\n 19,\n 18,\n 20,\n 19,\n 21,\n 20,\n 24,\n 14,\n 17,\n 15,\n 18,\n 15,\n 18,\n 21,\n 23,\n 21,\n 15,\n 21,\n 21,\n 8,\n ...]"
     },
     "execution_count": 29,
     "metadata": {},
     "output_type": "execute_result"
    }
   ],
   "source": [
    "list_token_length = data[\"len_tokens\"].tolist()\n",
    "list_token_length"
   ],
   "metadata": {
    "collapsed": false,
    "ExecuteTime": {
     "end_time": "2024-11-15T12:56:18.740489Z",
     "start_time": "2024-11-15T12:56:18.738926Z"
    }
   }
  },
  {
   "cell_type": "code",
   "execution_count": 39,
   "outputs": [
    {
     "name": "stdout",
     "output_type": "stream",
     "text": [
      "Min: 5\n",
      "Max: 526\n",
      "Average: 24.04\n",
      "Median: 20.00\n"
     ]
    },
    {
     "data": {
      "text/plain": "<Figure size 640x480 with 1 Axes>",
      "image/png": "[encoded data removed]"
     },
     "metadata": {},
     "output_type": "display_data"
    }
   ],
   "source": [
    "import seaborn as sns\n",
    "import matplotlib.pyplot as plt\n",
    "import numpy as np\n",
    "\n",
    "min_value = np.min(list_token_length)\n",
    "max_value = np.max(list_token_length)\n",
    "average = np.mean(list_token_length)\n",
    "median = np.median(list_token_length)\n",
    "\n",
    "print(f\"Min: {min_value}\")\n",
    "print(f\"Max: {max_value}\") # apparently, one single input is longer than 512 and is truncated - I dont see an issue there\n",
    "print(f\"Average: {average:.2f}\")\n",
    "print(f\"Median: {median:.2f}\")\n",
    "\n",
    "sns.histplot(list_token_length, kde=False)\n",
    "plt.title(\"Distribution Plot of token length\")\n",
    "plt.yscale('log') # Adding a log scale at the y-axis to give more visibility to the long inputs\n",
    "plt.xlabel(\"Values\")\n",
    "plt.ylabel(\"Frequency\")\n",
    "plt.grid(True)\n",
    "plt.show()"
   ],
   "metadata": {
    "collapsed": false,
    "ExecuteTime": {
     "end_time": "2024-11-15T12:59:35.320891Z",
     "start_time": "2024-11-15T12:59:35.065510Z"
    }
   }
  }
 ],
 "metadata": {
  "kernelspec": {
   "display_name": "Python 3",
   "language": "python",
   "name": "python3"
  },
  "language_info": {
   "codemirror_mode": {
    "name": "ipython",
    "version": 2
   },
   "file_extension": ".py",
   "mimetype": "text/x-python",
   "name": "python",
   "nbconvert_exporter": "python",
   "pygments_lexer": "ipython2",
   "version": "2.7.6"
  }
 },
 "nbformat": 4,
 "nbformat_minor": 0
}
