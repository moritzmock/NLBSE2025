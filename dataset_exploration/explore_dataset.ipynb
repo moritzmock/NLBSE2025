{
 "cells": [
  {
   "cell_type": "code",
   "execution_count": 1,
   "metadata": {
    "collapsed": true,
    "ExecuteTime": {
     "end_time": "2024-10-24T14:53:16.680538Z",
     "start_time": "2024-10-24T14:53:15.824136Z"
    }
   },
   "outputs": [],
   "source": [
    "from datasets import load_dataset, \\\n",
    "    concatenate_datasets"
   ]
  },
  {
   "cell_type": "code",
   "execution_count": 2,
   "outputs": [],
   "source": [
    "data = load_dataset('NLBSE/nlbse25-code-comment-classification')"
   ],
   "metadata": {
    "collapsed": false,
    "ExecuteTime": {
     "end_time": "2024-10-24T14:53:20.346406Z",
     "start_time": "2024-10-24T14:53:16.680977Z"
    }
   }
  },
  {
   "cell_type": "code",
   "execution_count": 8,
   "outputs": [
    {
     "data": {
      "text/plain": "DatasetDict({\n    java_train: Dataset({\n        features: ['index', 'class', 'comment_sentence', 'partition', 'combo', 'labels'],\n        num_rows: 7614\n    })\n    java_test: Dataset({\n        features: ['index', 'class', 'comment_sentence', 'partition', 'combo', 'labels'],\n        num_rows: 1725\n    })\n    python_train: Dataset({\n        features: ['index', 'class', 'comment_sentence', 'partition', 'combo', 'labels'],\n        num_rows: 1884\n    })\n    python_test: Dataset({\n        features: ['index', 'class', 'comment_sentence', 'partition', 'combo', 'labels'],\n        num_rows: 406\n    })\n    pharo_train: Dataset({\n        features: ['index', 'class', 'comment_sentence', 'partition', 'combo', 'labels'],\n        num_rows: 1298\n    })\n    pharo_test: Dataset({\n        features: ['index', 'class', 'comment_sentence', 'partition', 'combo', 'labels'],\n        num_rows: 289\n    })\n})"
     },
     "execution_count": 8,
     "metadata": {},
     "output_type": "execute_result"
    }
   ],
   "source": [
    "data"
   ],
   "metadata": {
    "collapsed": false,
    "ExecuteTime": {
     "end_time": "2024-10-24T12:49:55.603640Z",
     "start_time": "2024-10-24T12:49:55.601010Z"
    }
   }
  },
  {
   "cell_type": "code",
   "execution_count": 6,
   "outputs": [
    {
     "data": {
      "text/plain": "Map:   0%|          | 0/9339 [00:00<?, ? examples/s]",
      "application/vnd.jupyter.widget-view+json": {
       "version_major": 2,
       "version_minor": 0,
       "model_id": "be02db87824e4f88b9baad2d0dbbff8a"
      }
     },
     "metadata": {},
     "output_type": "display_data"
    },
    {
     "data": {
      "text/plain": "Map:   0%|          | 0/2290 [00:00<?, ? examples/s]",
      "application/vnd.jupyter.widget-view+json": {
       "version_major": 2,
       "version_minor": 0,
       "model_id": "59370fee7ee5449fa7b1a3e836b751e2"
      }
     },
     "metadata": {},
     "output_type": "display_data"
    },
    {
     "data": {
      "text/plain": "Map:   0%|          | 0/1587 [00:00<?, ? examples/s]",
      "application/vnd.jupyter.widget-view+json": {
       "version_major": 2,
       "version_minor": 0,
       "model_id": "edbb89198bb94d0796565df6d8f1d46f"
      }
     },
     "metadata": {},
     "output_type": "display_data"
    }
   ],
   "source": [
    "langs = ['java', 'python', 'pharo']\n",
    "labels = {\n",
    "    'java': ['summary', 'Ownership', 'Expand', 'usage', 'Pointer', 'deprecation', 'rational'],\n",
    "    'python': ['Usage', 'Parameters', 'DevelopmentNotes', 'Expand', 'Summary'],\n",
    "    'pharo': ['Keyimplementationpoints', 'Example', 'Responsibilities', 'Classreferences', 'Intent', 'Keymessages', 'Collaborators']\n",
    "}\n",
    "\n",
    "def split_list_into_columns(row, lang):\n",
    "    values_list = row['labels']  # Replace 'values' with your actual column name\n",
    "    dict = {}\n",
    "    for key in labels[lang]:\n",
    "        dict[key] = values_list[labels[lang].index(key)]\n",
    "\n",
    "    return dict\n",
    "\n",
    "def print_labels(data, lang):\n",
    "    for label in labels[lang]:\n",
    "        group = data.groupby(label).count()\n",
    "        print(\"label \" + label)\n",
    "        print(\"positive\", group[\"class\"][1], \",negative\", group[\"class\"][0], \"---\", group[\"class\"][1]+group[\"class\"][0])\n",
    "\n",
    "java = concatenate_datasets([data[\"java_train\"], data[\"java_test\"]]).map(lambda row: split_list_into_columns(row, \"java\")).to_pandas()\n",
    "python = concatenate_datasets([data[\"python_train\"], data[\"python_test\"]]).map(lambda row: split_list_into_columns(row, \"python\")).to_pandas()\n",
    "pharo = concatenate_datasets([data[\"pharo_train\"], data[\"pharo_test\"]]).map(lambda row: split_list_into_columns(row, \"pharo\")).to_pandas()\n"
   ],
   "metadata": {
    "collapsed": false,
    "ExecuteTime": {
     "end_time": "2024-10-24T14:55:29.323142Z",
     "start_time": "2024-10-24T14:55:28.620497Z"
    }
   }
  },
  {
   "cell_type": "code",
   "execution_count": 7,
   "outputs": [
    {
     "name": "stdout",
     "output_type": "stream",
     "text": [
      "label summary\n",
      "positive 4502 ,negative 4837 --- 9339\n",
      "label Ownership\n",
      "positive 312 ,negative 9027 --- 9339\n",
      "label Expand\n",
      "positive 611 ,negative 8728 --- 9339\n",
      "label usage\n",
      "positive 2524 ,negative 6815 --- 9339\n",
      "label Pointer\n",
      "positive 1088 ,negative 8251 --- 9339\n",
      "label deprecation\n",
      "positive 132 ,negative 9207 --- 9339\n",
      "label rational\n",
      "positive 379 ,negative 8960 --- 9339\n"
     ]
    }
   ],
   "source": [
    "print_labels(java, \"java\")"
   ],
   "metadata": {
    "collapsed": false,
    "ExecuteTime": {
     "end_time": "2024-10-24T14:55:29.955067Z",
     "start_time": "2024-10-24T14:55:29.929022Z"
    }
   }
  },
  {
   "cell_type": "code",
   "execution_count": 8,
   "outputs": [
    {
     "name": "stdout",
     "output_type": "stream",
     "text": [
      "label Usage\n",
      "positive 699 ,negative 1591 --- 2290\n",
      "label Parameters\n",
      "positive 700 ,negative 1590 --- 2290\n",
      "label DevelopmentNotes\n",
      "positive 251 ,negative 2039 --- 2290\n",
      "label Expand\n",
      "positive 407 ,negative 1883 --- 2290\n",
      "label Summary\n",
      "positive 429 ,negative 1861 --- 2290\n"
     ]
    }
   ],
   "source": [
    "print_labels(python, \"python\")"
   ],
   "metadata": {
    "collapsed": false,
    "ExecuteTime": {
     "end_time": "2024-10-24T14:55:43.126314Z",
     "start_time": "2024-10-24T14:55:43.118701Z"
    }
   }
  },
  {
   "cell_type": "code",
   "execution_count": 9,
   "outputs": [
    {
     "name": "stdout",
     "output_type": "stream",
     "text": [
      "label Keyimplementationpoints\n",
      "positive 221 ,negative 1366 --- 1587\n",
      "label Example\n",
      "positive 666 ,negative 921 --- 1587\n",
      "label Responsibilities\n",
      "positive 297 ,negative 1290 --- 1587\n",
      "label Classreferences\n",
      "positive 50 ,negative 1537 --- 1587\n",
      "label Intent\n",
      "positive 181 ,negative 1406 --- 1587\n",
      "label Keymessages\n",
      "positive 257 ,negative 1330 --- 1587\n",
      "label Collaborators\n",
      "positive 86 ,negative 1501 --- 1587\n"
     ]
    }
   ],
   "source": [
    "print_labels(pharo, \"pharo\")"
   ],
   "metadata": {
    "collapsed": false,
    "ExecuteTime": {
     "end_time": "2024-10-24T14:55:43.895203Z",
     "start_time": "2024-10-24T14:55:43.887171Z"
    }
   }
  },
  {
   "cell_type": "code",
   "execution_count": null,
   "outputs": [],
   "source": [],
   "metadata": {
    "collapsed": false
   }
  }
 ],
 "metadata": {
  "kernelspec": {
   "display_name": "Python 3",
   "language": "python",
   "name": "python3"
  },
  "language_info": {
   "codemirror_mode": {
    "name": "ipython",
    "version": 2
   },
   "file_extension": ".py",
   "mimetype": "text/x-python",
   "name": "python",
   "nbconvert_exporter": "python",
   "pygments_lexer": "ipython2",
   "version": "2.7.6"
  }
 },
 "nbformat": 4,
 "nbformat_minor": 0
}
