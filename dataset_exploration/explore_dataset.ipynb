{
 "cells": [
  {
   "cell_type": "code",
   "execution_count": 1,
   "metadata": {
    "collapsed": true,
    "ExecuteTime": {
     "end_time": "2024-11-05T15:42:45.708778Z",
     "start_time": "2024-11-05T15:42:44.759662Z"
    }
   },
   "outputs": [],
   "source": [
    "from datasets import load_dataset, \\\n",
    "    concatenate_datasets"
   ]
  },
  {
   "cell_type": "code",
   "execution_count": 2,
   "outputs": [],
   "source": [
    "data = load_dataset('NLBSE/nlbse25-code-comment-classification')"
   ],
   "metadata": {
    "collapsed": false,
    "ExecuteTime": {
     "end_time": "2024-11-05T15:42:51.402357Z",
     "start_time": "2024-11-05T15:42:45.709649Z"
    }
   }
  },
  {
   "cell_type": "code",
   "execution_count": 3,
   "outputs": [
    {
     "data": {
      "text/plain": "DatasetDict({\n    java_train: Dataset({\n        features: ['index', 'class', 'comment_sentence', 'partition', 'combo', 'labels'],\n        num_rows: 7614\n    })\n    java_test: Dataset({\n        features: ['index', 'class', 'comment_sentence', 'partition', 'combo', 'labels'],\n        num_rows: 1725\n    })\n    python_train: Dataset({\n        features: ['index', 'class', 'comment_sentence', 'partition', 'combo', 'labels'],\n        num_rows: 1884\n    })\n    python_test: Dataset({\n        features: ['index', 'class', 'comment_sentence', 'partition', 'combo', 'labels'],\n        num_rows: 406\n    })\n    pharo_train: Dataset({\n        features: ['index', 'class', 'comment_sentence', 'partition', 'combo', 'labels'],\n        num_rows: 1298\n    })\n    pharo_test: Dataset({\n        features: ['index', 'class', 'comment_sentence', 'partition', 'combo', 'labels'],\n        num_rows: 289\n    })\n})"
     },
     "execution_count": 3,
     "metadata": {},
     "output_type": "execute_result"
    }
   ],
   "source": [
    "data"
   ],
   "metadata": {
    "collapsed": false,
    "ExecuteTime": {
     "end_time": "2024-11-05T15:42:51.406079Z",
     "start_time": "2024-11-05T15:42:51.404125Z"
    }
   }
  },
  {
   "cell_type": "code",
   "execution_count": 10,
   "outputs": [],
   "source": [
    "langs = ['java', 'python', 'pharo']\n",
    "labels = {\n",
    "    'java': ['summary', 'Ownership', 'Expand', 'usage', 'Pointer', 'deprecation', 'rational'],\n",
    "    'python': ['Usage', 'Parameters', 'DevelopmentNotes', 'Expand', 'Summary'],\n",
    "    'pharo': ['Keyimplementationpoints', 'Example', 'Responsibilities', 'Classreferences', 'Intent', 'Keymessages', 'Collaborators']\n",
    "}\n",
    "\n",
    "def split_list_into_columns(row, lang):\n",
    "    values_list = row['labels']  # Replace 'values' with your actual column name\n",
    "    dict = {}\n",
    "    for key in labels[lang]:\n",
    "        dict[key] = values_list[labels[lang].index(key)]\n",
    "\n",
    "    return dict\n",
    "\n",
    "def print_labels(data, lang):\n",
    "    for label in labels[lang]:\n",
    "        group = data.groupby(label).count()\n",
    "        print(\"label \" + label)\n",
    "        print(\"positive\", group[\"class\"][1], \",negative\", group[\"class\"][0], \"---\", group[\"class\"][1]+group[\"class\"][0])\n",
    "\n",
    "java = concatenate_datasets([data[\"java_train\"], data[\"java_test\"]]).map(lambda row: split_list_into_columns(row, \"java\")).to_pandas()\n",
    "python = concatenate_datasets([data[\"python_train\"], data[\"python_test\"]]).map(lambda row: split_list_into_columns(row, \"python\")).to_pandas()\n",
    "pharo = concatenate_datasets([data[\"pharo_train\"], data[\"pharo_test\"]]).map(lambda row: split_list_into_columns(row, \"pharo\")).to_pandas()\n"
   ],
   "metadata": {
    "collapsed": false,
    "ExecuteTime": {
     "end_time": "2024-11-05T15:44:35.668559Z",
     "start_time": "2024-11-05T15:44:35.651270Z"
    }
   }
  },
  {
   "cell_type": "code",
   "execution_count": 11,
   "outputs": [
    {
     "name": "stdout",
     "output_type": "stream",
     "text": [
      "label summary\n",
      "positive 4502 ,negative 4837 --- 9339 - 0.48206446086304744\n",
      "label Ownership\n",
      "positive 312 ,negative 9027 --- 9339 - 0.033408287825248954\n",
      "label Expand\n",
      "positive 611 ,negative 8728 --- 9339 - 0.06542456365777921\n",
      "label usage\n",
      "positive 2524 ,negative 6815 --- 9339 - 0.27026448227861655\n",
      "label Pointer\n",
      "positive 1088 ,negative 8251 --- 9339 - 0.11650069600599636\n",
      "label deprecation\n",
      "positive 132 ,negative 9207 --- 9339 - 0.014134275618374558\n",
      "label rational\n",
      "positive 379 ,negative 8960 --- 9339 - 0.04058250348002998\n"
     ]
    }
   ],
   "source": [
    "print_labels(java, \"java\")"
   ],
   "metadata": {
    "collapsed": false,
    "ExecuteTime": {
     "end_time": "2024-11-05T15:44:36.083508Z",
     "start_time": "2024-11-05T15:44:36.071160Z"
    }
   }
  },
  {
   "cell_type": "code",
   "execution_count": 12,
   "outputs": [
    {
     "name": "stdout",
     "output_type": "stream",
     "text": [
      "label Usage\n",
      "positive 699 ,negative 1591 --- 2290 - 0.3052401746724891\n",
      "label Parameters\n",
      "positive 700 ,negative 1590 --- 2290 - 0.3056768558951965\n",
      "label DevelopmentNotes\n",
      "positive 251 ,negative 2039 --- 2290 - 0.10960698689956332\n",
      "label Expand\n",
      "positive 407 ,negative 1883 --- 2290 - 0.1777292576419214\n",
      "label Summary\n",
      "positive 429 ,negative 1861 --- 2290 - 0.1873362445414847\n"
     ]
    }
   ],
   "source": [
    "print_labels(python, \"python\")"
   ],
   "metadata": {
    "collapsed": false,
    "ExecuteTime": {
     "end_time": "2024-11-05T15:44:38.281694Z",
     "start_time": "2024-11-05T15:44:38.273436Z"
    }
   }
  },
  {
   "cell_type": "code",
   "execution_count": 13,
   "outputs": [
    {
     "name": "stdout",
     "output_type": "stream",
     "text": [
      "label Keyimplementationpoints\n",
      "positive 221 ,negative 1366 --- 1587 - 0.13925645872715817\n",
      "label Example\n",
      "positive 666 ,negative 921 --- 1587 - 0.41965973534971646\n",
      "label Responsibilities\n",
      "positive 297 ,negative 1290 --- 1587 - 0.18714555765595464\n",
      "label Classreferences\n",
      "positive 50 ,negative 1537 --- 1587 - 0.0315059861373661\n",
      "label Intent\n",
      "positive 181 ,negative 1406 --- 1587 - 0.11405166981726528\n",
      "label Keymessages\n",
      "positive 257 ,negative 1330 --- 1587 - 0.16194076874606175\n",
      "label Collaborators\n",
      "positive 86 ,negative 1501 --- 1587 - 0.05419029615626969\n"
     ]
    }
   ],
   "source": [
    "print_labels(pharo, \"pharo\")"
   ],
   "metadata": {
    "collapsed": false,
    "ExecuteTime": {
     "end_time": "2024-11-05T15:44:38.749113Z",
     "start_time": "2024-11-05T15:44:38.742191Z"
    }
   }
  },
  {
   "cell_type": "code",
   "execution_count": 14,
   "outputs": [
    {
     "name": "stdout",
     "output_type": "stream",
     "text": [
      "label summary\n",
      "positive 3610 ,negative 4004 --- 7614 - 0.4741266088783819\n",
      "label Ownership\n",
      "positive 267 ,negative 7347 --- 7614 - 0.035066981875492516\n",
      "label Expand\n",
      "positive 509 ,negative 7105 --- 7614 - 0.06685053848174416\n",
      "label usage\n",
      "positive 2093 ,negative 5521 --- 7614 - 0.27488836354084584\n",
      "label Pointer\n",
      "positive 904 ,negative 6710 --- 7614 - 0.11872865773574993\n",
      "label deprecation\n",
      "positive 117 ,negative 7497 --- 7614 - 0.015366430260047281\n",
      "label rational\n",
      "positive 311 ,negative 7303 --- 7614 - 0.04084581034935645\n",
      "label Usage\n",
      "positive 578 ,negative 1306 --- 1884 - 0.3067940552016985\n",
      "label Parameters\n",
      "positive 572 ,negative 1312 --- 1884 - 0.3036093418259023\n",
      "label DevelopmentNotes\n",
      "positive 210 ,negative 1674 --- 1884 - 0.11146496815286625\n",
      "label Expand\n",
      "positive 343 ,negative 1541 --- 1884 - 0.18205944798301485\n",
      "label Summary\n",
      "positive 347 ,negative 1537 --- 1884 - 0.18418259023354563\n",
      "label Keyimplementationpoints\n",
      "positive 178 ,negative 1120 --- 1298 - 0.13713405238828968\n",
      "label Example\n",
      "positive 547 ,negative 751 --- 1298 - 0.4214175654853621\n",
      "label Responsibilities\n",
      "positive 245 ,negative 1053 --- 1298 - 0.18875192604006163\n",
      "label Classreferences\n",
      "positive 46 ,negative 1252 --- 1298 - 0.03543913713405239\n",
      "label Intent\n",
      "positive 151 ,negative 1147 --- 1298 - 0.11633281972265024\n",
      "label Keymessages\n",
      "positive 214 ,negative 1084 --- 1298 - 0.16486902927580893\n",
      "label Collaborators\n",
      "positive 76 ,negative 1222 --- 1298 - 0.05855161787365177\n"
     ]
    }
   ],
   "source": [],
   "metadata": {
    "collapsed": false,
    "ExecuteTime": {
     "end_time": "2024-11-05T15:44:39.164441Z",
     "start_time": "2024-11-05T15:44:39.133654Z"
    }
   }
  }
 ],
 "metadata": {
  "kernelspec": {
   "display_name": "Python 3",
   "language": "python",
   "name": "python3"
  },
  "language_info": {
   "codemirror_mode": {
    "name": "ipython",
    "version": 2
   },
   "file_extension": ".py",
   "mimetype": "text/x-python",
   "name": "python",
   "nbconvert_exporter": "python",
   "pygments_lexer": "ipython2",
   "version": "2.7.6"
  }
 },
 "nbformat": 4,
 "nbformat_minor": 0
}
