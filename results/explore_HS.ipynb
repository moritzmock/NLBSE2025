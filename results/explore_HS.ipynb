{
 "cells": [
  {
   "cell_type": "code",
   "execution_count": 1,
   "metadata": {
    "collapsed": true,
    "ExecuteTime": {
     "end_time": "2024-11-17T10:53:07.879725Z",
     "start_time": "2024-11-17T10:53:05.332728Z"
    }
   },
   "outputs": [],
   "source": [
    "import pandas as pd\n",
    "import numpy as np\n",
    "import seaborn as sns\n",
    "import matplotlib.pyplot as plt\n",
    "from sklearn.ensemble import RandomForestRegressor\n",
    "from sklearn.preprocessing import LabelEncoder"
   ]
  },
  {
   "cell_type": "code",
   "execution_count": 7,
   "outputs": [
    {
     "data": {
      "text/plain": "    batch_size epochs weight_decay     LR         F1\n0            1      1            0  1e-05   39.73317\n1            1      1         0.01  1e-05  39.839736\n2            1      1        0.001  1e-05  39.759815\n3            2      1            0  1e-05  33.658654\n4            2      1         0.01  1e-05  33.658654\n..         ...    ...          ...    ...        ...\n715         16     10         0.01  5e-05  63.762388\n716         16     10        0.001  5e-05  63.471285\n717         32     10            0  5e-05  61.838699\n718         32     10         0.01  5e-05  61.765919\n719         32     10        0.001  5e-05  61.823426\n\n[720 rows x 5 columns]",
      "text/html": "<div>\n<style scoped>\n    .dataframe tbody tr th:only-of-type {\n        vertical-align: middle;\n    }\n\n    .dataframe tbody tr th {\n        vertical-align: top;\n    }\n\n    .dataframe thead th {\n        text-align: right;\n    }\n</style>\n<table border=\"1\" class=\"dataframe\">\n  <thead>\n    <tr style=\"text-align: right;\">\n      <th></th>\n      <th>batch_size</th>\n      <th>epochs</th>\n      <th>weight_decay</th>\n      <th>LR</th>\n      <th>F1</th>\n    </tr>\n  </thead>\n  <tbody>\n    <tr>\n      <th>0</th>\n      <td>1</td>\n      <td>1</td>\n      <td>0</td>\n      <td>1e-05</td>\n      <td>39.73317</td>\n    </tr>\n    <tr>\n      <th>1</th>\n      <td>1</td>\n      <td>1</td>\n      <td>0.01</td>\n      <td>1e-05</td>\n      <td>39.839736</td>\n    </tr>\n    <tr>\n      <th>2</th>\n      <td>1</td>\n      <td>1</td>\n      <td>0.001</td>\n      <td>1e-05</td>\n      <td>39.759815</td>\n    </tr>\n    <tr>\n      <th>3</th>\n      <td>2</td>\n      <td>1</td>\n      <td>0</td>\n      <td>1e-05</td>\n      <td>33.658654</td>\n    </tr>\n    <tr>\n      <th>4</th>\n      <td>2</td>\n      <td>1</td>\n      <td>0.01</td>\n      <td>1e-05</td>\n      <td>33.658654</td>\n    </tr>\n    <tr>\n      <th>...</th>\n      <td>...</td>\n      <td>...</td>\n      <td>...</td>\n      <td>...</td>\n      <td>...</td>\n    </tr>\n    <tr>\n      <th>715</th>\n      <td>16</td>\n      <td>10</td>\n      <td>0.01</td>\n      <td>5e-05</td>\n      <td>63.762388</td>\n    </tr>\n    <tr>\n      <th>716</th>\n      <td>16</td>\n      <td>10</td>\n      <td>0.001</td>\n      <td>5e-05</td>\n      <td>63.471285</td>\n    </tr>\n    <tr>\n      <th>717</th>\n      <td>32</td>\n      <td>10</td>\n      <td>0</td>\n      <td>5e-05</td>\n      <td>61.838699</td>\n    </tr>\n    <tr>\n      <th>718</th>\n      <td>32</td>\n      <td>10</td>\n      <td>0.01</td>\n      <td>5e-05</td>\n      <td>61.765919</td>\n    </tr>\n    <tr>\n      <th>719</th>\n      <td>32</td>\n      <td>10</td>\n      <td>0.001</td>\n      <td>5e-05</td>\n      <td>61.823426</td>\n    </tr>\n  </tbody>\n</table>\n<p>720 rows × 5 columns</p>\n</div>"
     },
     "execution_count": 7,
     "metadata": {},
     "output_type": "execute_result"
    }
   ],
   "source": [
    "data = pd.read_csv(\"all_results_21582.csv\")\n",
    "\n",
    "relevant_keys_f1 = [key for key in data.keys().tolist() if key.endswith(\"_f1\")]\n",
    "\n",
    "data[\"best_F1\"] = None\n",
    "\n",
    "data_values = pd.DataFrame(columns=[\"batch_size\", \"epochs\", \"weight_decay\", \"LR\", \"F1\"])\n",
    "\n",
    "for index, row in data.iterrows():\n",
    "\n",
    "    result = []\n",
    "\n",
    "    for key in relevant_keys_f1:\n",
    "        value = row[key]\n",
    "        result.append(value)\n",
    "\n",
    "    average = sum(result)/len(relevant_keys_f1) * 100\n",
    "    data.loc[index, \"best_F1\"] = average\n",
    "    info_array = row[\"info\"].split(\"_\")[2:6]\n",
    "    index = len(data_values)\n",
    "\n",
    "    data_values.loc[index, \"batch_size\"] = info_array[0]\n",
    "    data_values.loc[index, \"epochs\"] = info_array[1]\n",
    "    data_values.loc[index, \"weight_decay\"] = info_array[2]\n",
    "    data_values.loc[index, \"LR\"] = info_array[3]\n",
    "    data_values.loc[index, \"F1\"] = average\n",
    "\n",
    "data_values"
   ],
   "metadata": {
    "collapsed": false,
    "ExecuteTime": {
     "end_time": "2024-11-17T11:02:39.873142Z",
     "start_time": "2024-11-17T11:02:39.702412Z"
    }
   }
  },
  {
   "cell_type": "code",
   "execution_count": 15,
   "outputs": [
    {
     "data": {
      "text/plain": "<Figure size 1000x600 with 1 Axes>",
      "image/png": "[encoded data removed]"
     },
     "metadata": {},
     "output_type": "display_data"
    },
    {
     "data": {
      "text/plain": "  hyperparameter  importance\n1         epochs    0.640088\n0     batch_size    0.228103\n3             LR    0.124425\n2   weight_decay    0.007384",
      "text/html": "<div>\n<style scoped>\n    .dataframe tbody tr th:only-of-type {\n        vertical-align: middle;\n    }\n\n    .dataframe tbody tr th {\n        vertical-align: top;\n    }\n\n    .dataframe thead th {\n        text-align: right;\n    }\n</style>\n<table border=\"1\" class=\"dataframe\">\n  <thead>\n    <tr style=\"text-align: right;\">\n      <th></th>\n      <th>hyperparameter</th>\n      <th>importance</th>\n    </tr>\n  </thead>\n  <tbody>\n    <tr>\n      <th>1</th>\n      <td>epochs</td>\n      <td>0.640088</td>\n    </tr>\n    <tr>\n      <th>0</th>\n      <td>batch_size</td>\n      <td>0.228103</td>\n    </tr>\n    <tr>\n      <th>3</th>\n      <td>LR</td>\n      <td>0.124425</td>\n    </tr>\n    <tr>\n      <th>2</th>\n      <td>weight_decay</td>\n      <td>0.007384</td>\n    </tr>\n  </tbody>\n</table>\n</div>"
     },
     "execution_count": 15,
     "metadata": {},
     "output_type": "execute_result"
    }
   ],
   "source": [
    "def identify_influential_hyperparameters(df, performance_metric):\n",
    "    X = df.drop(columns=[performance_metric])\n",
    "    y = df[performance_metric]\n",
    "\n",
    "    for col in X.select_dtypes(include=['object', 'category']).columns:\n",
    "        X[col] = LabelEncoder().fit_transform(X[col])\n",
    "\n",
    "    model = RandomForestRegressor(n_estimators=100, random_state=42)\n",
    "    model.fit(X, y)\n",
    "\n",
    "    feature_importances = model.feature_importances_\n",
    "\n",
    "    feature_importance_df = pd.DataFrame({\n",
    "        'hyperparameter': X.columns,\n",
    "        'importance': feature_importances\n",
    "    }).sort_values(by='importance', ascending=False)\n",
    "\n",
    "    plt.figure(figsize=(10, 6))\n",
    "    sns.barplot(x='importance', y='hyperparameter', data=feature_importance_df)\n",
    "    plt.title('Feature Importance of Hyperparameters')\n",
    "    plt.xlabel('Importance')\n",
    "    plt.ylabel('Hyperparameter')\n",
    "    plt.show()\n",
    "\n",
    "    return feature_importance_df\n",
    "\n",
    "identify_influential_hyperparameters(data_values, 'F1')"
   ],
   "metadata": {
    "collapsed": false,
    "ExecuteTime": {
     "end_time": "2024-11-17T11:05:07.245148Z",
     "start_time": "2024-11-17T11:05:07.106946Z"
    }
   }
  },
  {
   "cell_type": "code",
   "execution_count": 16,
   "outputs": [
    {
     "data": {
      "text/plain": "epochs          0.693178\nLR              0.260276\nweight_decay    0.001746\nbatch_size     -0.387477\nName: F1, dtype: float64"
     },
     "execution_count": 16,
     "metadata": {},
     "output_type": "execute_result"
    }
   ],
   "source": [
    "def correlation_analysis(df, performance_metric):\n",
    "    corr_matrix = df.corr()\n",
    "    return corr_matrix[performance_metric].drop(performance_metric).sort_values(ascending=False)\n",
    "\n",
    "correlation_analysis(data_values, 'F1')"
   ],
   "metadata": {
    "collapsed": false,
    "ExecuteTime": {
     "end_time": "2024-11-17T11:05:09.199109Z",
     "start_time": "2024-11-17T11:05:09.186453Z"
    }
   }
  },
  {
   "cell_type": "code",
   "execution_count": null,
   "outputs": [],
   "source": [],
   "metadata": {
    "collapsed": false
   }
  }
 ],
 "metadata": {
  "kernelspec": {
   "display_name": "Python 3",
   "language": "python",
   "name": "python3"
  },
  "language_info": {
   "codemirror_mode": {
    "name": "ipython",
    "version": 2
   },
   "file_extension": ".py",
   "mimetype": "text/x-python",
   "name": "python",
   "nbconvert_exporter": "python",
   "pygments_lexer": "ipython2",
   "version": "2.7.6"
  }
 },
 "nbformat": 4,
 "nbformat_minor": 0
}
